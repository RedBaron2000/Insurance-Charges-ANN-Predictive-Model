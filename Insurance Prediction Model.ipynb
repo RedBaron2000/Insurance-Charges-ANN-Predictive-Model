{
 "cells": [
  {
   "cell_type": "code",
   "execution_count": 1,
   "id": "fbfdc1ed",
   "metadata": {},
   "outputs": [],
   "source": [
    "import numpy as np\n",
    "import tensorflow as tf\n",
    "import matplotlib.pyplot as plt\n",
    "import seaborn as sns\n",
    "import pandas as pd\n",
    "\n",
    "sns.set()"
   ]
  },
  {
   "cell_type": "code",
   "execution_count": 2,
   "id": "4be8e336",
   "metadata": {},
   "outputs": [],
   "source": [
    "#loading in data and assigning to input and target variables\n",
    "\n",
    "npz = np.load('Insurance_data_test.npz')\n",
    "\n",
    "train_inputs = npz['inputs']\n",
    "train_targets = npz['targets']\n",
    "\n",
    "npz = np.load('Insurance_data_validation.npz')\n",
    "\n",
    "validation_inputs = npz['inputs']\n",
    "validation_targets = npz['targets']\n",
    "\n",
    "npz = np.load('Insurance_data_test.npz')\n",
    "\n",
    "test_inputs = npz['inputs']\n",
    "test_targets = npz['targets']"
   ]
  },
  {
   "cell_type": "code",
   "execution_count": null,
   "id": "f03314ca",
   "metadata": {},
   "outputs": [],
   "source": [
    "train_inputs"
   ]
  },
  {
   "cell_type": "code",
   "execution_count": 3,
   "id": "f600f657",
   "metadata": {},
   "outputs": [],
   "source": [
    "#model\n",
    "#add dropout layers between each layer to reduce possibility of overfitting of model\n",
    "\n",
    "inputs_size = 8\n",
    "output_size = 1\n",
    "hidden_layer_size = 20\n",
    "\n",
    "model = tf.keras.Sequential([\n",
    "                            tf.keras.layers.Dense(hidden_layer_size, activation='relu'),\n",
    "                            tf.keras.layers.Dropout(0.05),\n",
    "                            tf.keras.layers.Dense(hidden_layer_size, activation='relu'),\n",
    "                            tf.keras.layers.Dropout(0.05),\n",
    "                            tf.keras.layers.Dense(hidden_layer_size, activation='relu'),\n",
    "                            tf.keras.layers.Dropout(0.05),\n",
    "                            tf.keras.layers.Dense(hidden_layer_size, activation='relu'),\n",
    "                            tf.keras.layers.Dropout(0.05),\n",
    "                            tf.keras.layers.Dense(hidden_layer_size, activation='relu'),\n",
    "                            tf.keras.layers.Dropout(0.05),\n",
    "                            tf.keras.layers.Dense(hidden_layer_size, activation='relu'),\n",
    "                            tf.keras.layers.Dropout(0.05),\n",
    "                            tf.keras.layers.Dense(output_size)\n",
    "    \n",
    "    \n",
    "                            ])\n",
    "\n",
    "model.compile(optimizer='adam', loss='mse', metrics=['mse'])\n",
    "\n",
    "batch_size = 20\n",
    "max_epochs = 150\n",
    "\n",
    "#early_stopping = tf.keras.callbacks.EarlyStopping(patience=2)\n",
    "\n"
   ]
  },
  {
   "cell_type": "code",
   "execution_count": 4,
   "id": "c6098d89",
   "metadata": {},
   "outputs": [
    {
     "name": "stdout",
     "output_type": "stream",
     "text": [
      "Epoch 1/150\n",
      "7/7 - 2s - loss: 0.9503 - mse: 0.9503 - val_loss: 0.8293 - val_mse: 0.8293 - 2s/epoch - 244ms/step\n",
      "Epoch 2/150\n",
      "7/7 - 0s - loss: 0.9392 - mse: 0.9392 - val_loss: 0.8265 - val_mse: 0.8265 - 42ms/epoch - 6ms/step\n",
      "Epoch 3/150\n",
      "7/7 - 0s - loss: 0.9234 - mse: 0.9234 - val_loss: 0.8225 - val_mse: 0.8225 - 44ms/epoch - 6ms/step\n",
      "Epoch 4/150\n",
      "7/7 - 0s - loss: 0.9141 - mse: 0.9141 - val_loss: 0.8171 - val_mse: 0.8171 - 43ms/epoch - 6ms/step\n",
      "Epoch 5/150\n",
      "7/7 - 0s - loss: 0.9005 - mse: 0.9005 - val_loss: 0.8059 - val_mse: 0.8059 - 42ms/epoch - 6ms/step\n",
      "Epoch 6/150\n",
      "7/7 - 0s - loss: 0.8793 - mse: 0.8793 - val_loss: 0.7896 - val_mse: 0.7896 - 43ms/epoch - 6ms/step\n",
      "Epoch 7/150\n",
      "7/7 - 0s - loss: 0.8340 - mse: 0.8340 - val_loss: 0.7470 - val_mse: 0.7470 - 40ms/epoch - 6ms/step\n",
      "Epoch 8/150\n",
      "7/7 - 0s - loss: 0.8557 - mse: 0.8557 - val_loss: 0.7034 - val_mse: 0.7034 - 40ms/epoch - 6ms/step\n",
      "Epoch 9/150\n",
      "7/7 - 0s - loss: 0.7738 - mse: 0.7738 - val_loss: 0.6491 - val_mse: 0.6491 - 40ms/epoch - 6ms/step\n",
      "Epoch 10/150\n",
      "7/7 - 0s - loss: 0.6714 - mse: 0.6714 - val_loss: 0.5654 - val_mse: 0.5654 - 40ms/epoch - 6ms/step\n",
      "Epoch 11/150\n",
      "7/7 - 0s - loss: 0.5687 - mse: 0.5687 - val_loss: 0.4821 - val_mse: 0.4821 - 41ms/epoch - 6ms/step\n",
      "Epoch 12/150\n",
      "7/7 - 0s - loss: 0.5014 - mse: 0.5014 - val_loss: 0.4127 - val_mse: 0.4127 - 39ms/epoch - 6ms/step\n",
      "Epoch 13/150\n",
      "7/7 - 0s - loss: 0.3484 - mse: 0.3484 - val_loss: 0.3603 - val_mse: 0.3603 - 42ms/epoch - 6ms/step\n",
      "Epoch 14/150\n",
      "7/7 - 0s - loss: 0.3563 - mse: 0.3563 - val_loss: 0.3086 - val_mse: 0.3086 - 40ms/epoch - 6ms/step\n",
      "Epoch 15/150\n",
      "7/7 - 0s - loss: 0.3290 - mse: 0.3290 - val_loss: 0.2893 - val_mse: 0.2893 - 39ms/epoch - 6ms/step\n",
      "Epoch 16/150\n",
      "7/7 - 0s - loss: 0.3062 - mse: 0.3062 - val_loss: 0.2754 - val_mse: 0.2754 - 40ms/epoch - 6ms/step\n",
      "Epoch 17/150\n",
      "7/7 - 0s - loss: 0.2276 - mse: 0.2276 - val_loss: 0.2869 - val_mse: 0.2869 - 40ms/epoch - 6ms/step\n",
      "Epoch 18/150\n",
      "7/7 - 0s - loss: 0.2576 - mse: 0.2576 - val_loss: 0.2743 - val_mse: 0.2743 - 39ms/epoch - 6ms/step\n",
      "Epoch 19/150\n",
      "7/7 - 0s - loss: 0.2289 - mse: 0.2289 - val_loss: 0.2719 - val_mse: 0.2719 - 38ms/epoch - 5ms/step\n",
      "Epoch 20/150\n",
      "7/7 - 0s - loss: 0.2082 - mse: 0.2082 - val_loss: 0.2721 - val_mse: 0.2721 - 39ms/epoch - 6ms/step\n",
      "Epoch 21/150\n",
      "7/7 - 0s - loss: 0.2645 - mse: 0.2645 - val_loss: 0.2634 - val_mse: 0.2634 - 39ms/epoch - 6ms/step\n",
      "Epoch 22/150\n",
      "7/7 - 0s - loss: 0.2701 - mse: 0.2701 - val_loss: 0.2592 - val_mse: 0.2592 - 38ms/epoch - 5ms/step\n",
      "Epoch 23/150\n",
      "7/7 - 0s - loss: 0.2278 - mse: 0.2278 - val_loss: 0.2693 - val_mse: 0.2693 - 39ms/epoch - 6ms/step\n",
      "Epoch 24/150\n",
      "7/7 - 0s - loss: 0.3704 - mse: 0.3704 - val_loss: 0.2578 - val_mse: 0.2578 - 54ms/epoch - 8ms/step\n",
      "Epoch 25/150\n",
      "7/7 - 0s - loss: 0.2581 - mse: 0.2581 - val_loss: 0.2610 - val_mse: 0.2610 - 64ms/epoch - 9ms/step\n",
      "Epoch 26/150\n",
      "7/7 - 0s - loss: 0.1833 - mse: 0.1833 - val_loss: 0.2580 - val_mse: 0.2580 - 49ms/epoch - 7ms/step\n",
      "Epoch 27/150\n",
      "7/7 - 0s - loss: 0.2298 - mse: 0.2298 - val_loss: 0.2501 - val_mse: 0.2501 - 41ms/epoch - 6ms/step\n",
      "Epoch 28/150\n",
      "7/7 - 0s - loss: 0.2102 - mse: 0.2102 - val_loss: 0.2495 - val_mse: 0.2495 - 40ms/epoch - 6ms/step\n",
      "Epoch 29/150\n",
      "7/7 - 0s - loss: 0.2035 - mse: 0.2035 - val_loss: 0.2481 - val_mse: 0.2481 - 41ms/epoch - 6ms/step\n",
      "Epoch 30/150\n",
      "7/7 - 0s - loss: 0.2385 - mse: 0.2385 - val_loss: 0.2495 - val_mse: 0.2495 - 48ms/epoch - 7ms/step\n",
      "Epoch 31/150\n",
      "7/7 - 0s - loss: 0.1786 - mse: 0.1786 - val_loss: 0.2588 - val_mse: 0.2588 - 45ms/epoch - 6ms/step\n",
      "Epoch 32/150\n",
      "7/7 - 0s - loss: 0.1757 - mse: 0.1757 - val_loss: 0.2604 - val_mse: 0.2604 - 45ms/epoch - 6ms/step\n",
      "Epoch 33/150\n",
      "7/7 - 0s - loss: 0.1550 - mse: 0.1550 - val_loss: 0.2608 - val_mse: 0.2608 - 51ms/epoch - 7ms/step\n",
      "Epoch 34/150\n",
      "7/7 - 0s - loss: 0.1959 - mse: 0.1959 - val_loss: 0.2597 - val_mse: 0.2597 - 43ms/epoch - 6ms/step\n",
      "Epoch 35/150\n",
      "7/7 - 0s - loss: 0.1967 - mse: 0.1967 - val_loss: 0.2505 - val_mse: 0.2505 - 43ms/epoch - 6ms/step\n",
      "Epoch 36/150\n",
      "7/7 - 0s - loss: 0.1752 - mse: 0.1752 - val_loss: 0.2481 - val_mse: 0.2481 - 45ms/epoch - 6ms/step\n",
      "Epoch 37/150\n",
      "7/7 - 0s - loss: 0.1822 - mse: 0.1822 - val_loss: 0.2558 - val_mse: 0.2558 - 42ms/epoch - 6ms/step\n",
      "Epoch 38/150\n",
      "7/7 - 0s - loss: 0.2358 - mse: 0.2358 - val_loss: 0.2512 - val_mse: 0.2512 - 37ms/epoch - 5ms/step\n",
      "Epoch 39/150\n",
      "7/7 - 0s - loss: 0.2058 - mse: 0.2058 - val_loss: 0.2523 - val_mse: 0.2523 - 39ms/epoch - 6ms/step\n",
      "Epoch 40/150\n",
      "7/7 - 0s - loss: 0.2095 - mse: 0.2095 - val_loss: 0.2545 - val_mse: 0.2545 - 41ms/epoch - 6ms/step\n",
      "Epoch 41/150\n",
      "7/7 - 0s - loss: 0.2081 - mse: 0.2081 - val_loss: 0.2536 - val_mse: 0.2536 - 42ms/epoch - 6ms/step\n",
      "Epoch 42/150\n",
      "7/7 - 0s - loss: 0.1611 - mse: 0.1611 - val_loss: 0.2535 - val_mse: 0.2535 - 45ms/epoch - 6ms/step\n",
      "Epoch 43/150\n",
      "7/7 - 0s - loss: 0.1991 - mse: 0.1991 - val_loss: 0.2484 - val_mse: 0.2484 - 46ms/epoch - 7ms/step\n",
      "Epoch 44/150\n",
      "7/7 - 0s - loss: 0.2288 - mse: 0.2288 - val_loss: 0.2491 - val_mse: 0.2491 - 51ms/epoch - 7ms/step\n",
      "Epoch 45/150\n",
      "7/7 - 0s - loss: 0.1754 - mse: 0.1754 - val_loss: 0.2523 - val_mse: 0.2523 - 57ms/epoch - 8ms/step\n",
      "Epoch 46/150\n",
      "7/7 - 0s - loss: 0.1956 - mse: 0.1956 - val_loss: 0.2487 - val_mse: 0.2487 - 70ms/epoch - 10ms/step\n",
      "Epoch 47/150\n",
      "7/7 - 0s - loss: 0.1832 - mse: 0.1832 - val_loss: 0.2429 - val_mse: 0.2429 - 60ms/epoch - 9ms/step\n",
      "Epoch 48/150\n",
      "7/7 - 0s - loss: 0.1516 - mse: 0.1516 - val_loss: 0.2373 - val_mse: 0.2373 - 58ms/epoch - 8ms/step\n",
      "Epoch 49/150\n",
      "7/7 - 0s - loss: 0.1784 - mse: 0.1784 - val_loss: 0.2297 - val_mse: 0.2297 - 43ms/epoch - 6ms/step\n",
      "Epoch 50/150\n",
      "7/7 - 0s - loss: 0.1381 - mse: 0.1381 - val_loss: 0.2302 - val_mse: 0.2302 - 43ms/epoch - 6ms/step\n",
      "Epoch 51/150\n",
      "7/7 - 0s - loss: 0.1652 - mse: 0.1652 - val_loss: 0.2342 - val_mse: 0.2342 - 43ms/epoch - 6ms/step\n",
      "Epoch 52/150\n",
      "7/7 - 0s - loss: 0.1886 - mse: 0.1886 - val_loss: 0.2370 - val_mse: 0.2370 - 43ms/epoch - 6ms/step\n",
      "Epoch 53/150\n",
      "7/7 - 0s - loss: 0.1633 - mse: 0.1633 - val_loss: 0.2425 - val_mse: 0.2425 - 43ms/epoch - 6ms/step\n",
      "Epoch 54/150\n",
      "7/7 - 0s - loss: 0.1599 - mse: 0.1599 - val_loss: 0.2449 - val_mse: 0.2449 - 42ms/epoch - 6ms/step\n",
      "Epoch 55/150\n",
      "7/7 - 0s - loss: 0.1347 - mse: 0.1347 - val_loss: 0.2537 - val_mse: 0.2537 - 42ms/epoch - 6ms/step\n",
      "Epoch 56/150\n",
      "7/7 - 0s - loss: 0.1428 - mse: 0.1428 - val_loss: 0.2426 - val_mse: 0.2426 - 41ms/epoch - 6ms/step\n",
      "Epoch 57/150\n",
      "7/7 - 0s - loss: 0.1660 - mse: 0.1660 - val_loss: 0.2508 - val_mse: 0.2508 - 40ms/epoch - 6ms/step\n",
      "Epoch 58/150\n",
      "7/7 - 0s - loss: 0.1990 - mse: 0.1990 - val_loss: 0.2494 - val_mse: 0.2494 - 43ms/epoch - 6ms/step\n",
      "Epoch 59/150\n",
      "7/7 - 0s - loss: 0.2454 - mse: 0.2454 - val_loss: 0.2503 - val_mse: 0.2503 - 41ms/epoch - 6ms/step\n",
      "Epoch 60/150\n",
      "7/7 - 0s - loss: 0.1563 - mse: 0.1563 - val_loss: 0.2508 - val_mse: 0.2508 - 42ms/epoch - 6ms/step\n",
      "Epoch 61/150\n",
      "7/7 - 0s - loss: 0.1796 - mse: 0.1796 - val_loss: 0.2470 - val_mse: 0.2470 - 42ms/epoch - 6ms/step\n",
      "Epoch 62/150\n",
      "7/7 - 0s - loss: 0.1514 - mse: 0.1514 - val_loss: 0.2386 - val_mse: 0.2386 - 40ms/epoch - 6ms/step\n",
      "Epoch 63/150\n",
      "7/7 - 0s - loss: 0.1849 - mse: 0.1849 - val_loss: 0.2348 - val_mse: 0.2348 - 40ms/epoch - 6ms/step\n",
      "Epoch 64/150\n",
      "7/7 - 0s - loss: 0.1530 - mse: 0.1530 - val_loss: 0.2374 - val_mse: 0.2374 - 38ms/epoch - 5ms/step\n",
      "Epoch 65/150\n",
      "7/7 - 0s - loss: 0.1302 - mse: 0.1302 - val_loss: 0.2317 - val_mse: 0.2317 - 40ms/epoch - 6ms/step\n",
      "Epoch 66/150\n",
      "7/7 - 0s - loss: 0.1345 - mse: 0.1345 - val_loss: 0.2297 - val_mse: 0.2297 - 40ms/epoch - 6ms/step\n",
      "Epoch 67/150\n",
      "7/7 - 0s - loss: 0.1794 - mse: 0.1794 - val_loss: 0.2296 - val_mse: 0.2296 - 67ms/epoch - 10ms/step\n",
      "Epoch 68/150\n",
      "7/7 - 0s - loss: 0.1327 - mse: 0.1327 - val_loss: 0.2371 - val_mse: 0.2371 - 76ms/epoch - 11ms/step\n",
      "Epoch 69/150\n",
      "7/7 - 0s - loss: 0.1227 - mse: 0.1227 - val_loss: 0.2400 - val_mse: 0.2400 - 71ms/epoch - 10ms/step\n",
      "Epoch 70/150\n",
      "7/7 - 0s - loss: 0.1188 - mse: 0.1188 - val_loss: 0.2470 - val_mse: 0.2470 - 59ms/epoch - 8ms/step\n",
      "Epoch 71/150\n",
      "7/7 - 0s - loss: 0.1576 - mse: 0.1576 - val_loss: 0.2378 - val_mse: 0.2378 - 44ms/epoch - 6ms/step\n",
      "Epoch 72/150\n",
      "7/7 - 0s - loss: 0.1578 - mse: 0.1578 - val_loss: 0.2309 - val_mse: 0.2309 - 57ms/epoch - 8ms/step\n",
      "Epoch 73/150\n",
      "7/7 - 0s - loss: 0.1246 - mse: 0.1246 - val_loss: 0.2362 - val_mse: 0.2362 - 45ms/epoch - 6ms/step\n",
      "Epoch 74/150\n",
      "7/7 - 0s - loss: 0.1561 - mse: 0.1561 - val_loss: 0.2338 - val_mse: 0.2338 - 45ms/epoch - 6ms/step\n"
     ]
    },
    {
     "name": "stdout",
     "output_type": "stream",
     "text": [
      "Epoch 75/150\n",
      "7/7 - 0s - loss: 0.1520 - mse: 0.1520 - val_loss: 0.2302 - val_mse: 0.2302 - 42ms/epoch - 6ms/step\n",
      "Epoch 76/150\n",
      "7/7 - 0s - loss: 0.1181 - mse: 0.1181 - val_loss: 0.2285 - val_mse: 0.2285 - 41ms/epoch - 6ms/step\n",
      "Epoch 77/150\n",
      "7/7 - 0s - loss: 0.1619 - mse: 0.1619 - val_loss: 0.2261 - val_mse: 0.2261 - 38ms/epoch - 5ms/step\n",
      "Epoch 78/150\n",
      "7/7 - 0s - loss: 0.1558 - mse: 0.1558 - val_loss: 0.2216 - val_mse: 0.2216 - 40ms/epoch - 6ms/step\n",
      "Epoch 79/150\n",
      "7/7 - 0s - loss: 0.1465 - mse: 0.1465 - val_loss: 0.2188 - val_mse: 0.2188 - 39ms/epoch - 6ms/step\n",
      "Epoch 80/150\n",
      "7/7 - 0s - loss: 0.1456 - mse: 0.1456 - val_loss: 0.2193 - val_mse: 0.2193 - 39ms/epoch - 6ms/step\n",
      "Epoch 81/150\n",
      "7/7 - 0s - loss: 0.1288 - mse: 0.1288 - val_loss: 0.2259 - val_mse: 0.2259 - 40ms/epoch - 6ms/step\n",
      "Epoch 82/150\n",
      "7/7 - 0s - loss: 0.1307 - mse: 0.1307 - val_loss: 0.2332 - val_mse: 0.2332 - 38ms/epoch - 5ms/step\n",
      "Epoch 83/150\n",
      "7/7 - 0s - loss: 0.1566 - mse: 0.1566 - val_loss: 0.2225 - val_mse: 0.2225 - 37ms/epoch - 5ms/step\n",
      "Epoch 84/150\n",
      "7/7 - 0s - loss: 0.1205 - mse: 0.1205 - val_loss: 0.2215 - val_mse: 0.2215 - 38ms/epoch - 5ms/step\n",
      "Epoch 85/150\n",
      "7/7 - 0s - loss: 0.1312 - mse: 0.1312 - val_loss: 0.2226 - val_mse: 0.2226 - 38ms/epoch - 5ms/step\n",
      "Epoch 86/150\n",
      "7/7 - 0s - loss: 0.1795 - mse: 0.1795 - val_loss: 0.2341 - val_mse: 0.2341 - 39ms/epoch - 6ms/step\n",
      "Epoch 87/150\n",
      "7/7 - 0s - loss: 0.1330 - mse: 0.1330 - val_loss: 0.2391 - val_mse: 0.2391 - 44ms/epoch - 6ms/step\n",
      "Epoch 88/150\n",
      "7/7 - 0s - loss: 0.1351 - mse: 0.1351 - val_loss: 0.2418 - val_mse: 0.2418 - 46ms/epoch - 7ms/step\n",
      "Epoch 89/150\n",
      "7/7 - 0s - loss: 0.1468 - mse: 0.1468 - val_loss: 0.2339 - val_mse: 0.2339 - 67ms/epoch - 10ms/step\n",
      "Epoch 90/150\n",
      "7/7 - 0s - loss: 0.1207 - mse: 0.1207 - val_loss: 0.2269 - val_mse: 0.2269 - 57ms/epoch - 8ms/step\n",
      "Epoch 91/150\n",
      "7/7 - 0s - loss: 0.1335 - mse: 0.1335 - val_loss: 0.2334 - val_mse: 0.2334 - 49ms/epoch - 7ms/step\n",
      "Epoch 92/150\n",
      "7/7 - 0s - loss: 0.1592 - mse: 0.1592 - val_loss: 0.2289 - val_mse: 0.2289 - 39ms/epoch - 6ms/step\n",
      "Epoch 93/150\n",
      "7/7 - 0s - loss: 0.1202 - mse: 0.1202 - val_loss: 0.2232 - val_mse: 0.2232 - 39ms/epoch - 6ms/step\n",
      "Epoch 94/150\n",
      "7/7 - 0s - loss: 0.1458 - mse: 0.1458 - val_loss: 0.2168 - val_mse: 0.2168 - 54ms/epoch - 8ms/step\n",
      "Epoch 95/150\n",
      "7/7 - 0s - loss: 0.1386 - mse: 0.1386 - val_loss: 0.2085 - val_mse: 0.2085 - 48ms/epoch - 7ms/step\n",
      "Epoch 96/150\n",
      "7/7 - 0s - loss: 0.1196 - mse: 0.1196 - val_loss: 0.2034 - val_mse: 0.2034 - 54ms/epoch - 8ms/step\n",
      "Epoch 97/150\n",
      "7/7 - 0s - loss: 0.1312 - mse: 0.1312 - val_loss: 0.2039 - val_mse: 0.2039 - 45ms/epoch - 6ms/step\n",
      "Epoch 98/150\n",
      "7/7 - 0s - loss: 0.1170 - mse: 0.1170 - val_loss: 0.2051 - val_mse: 0.2051 - 44ms/epoch - 6ms/step\n",
      "Epoch 99/150\n",
      "7/7 - 0s - loss: 0.1196 - mse: 0.1196 - val_loss: 0.2151 - val_mse: 0.2151 - 44ms/epoch - 6ms/step\n",
      "Epoch 100/150\n",
      "7/7 - 0s - loss: 0.1532 - mse: 0.1532 - val_loss: 0.2163 - val_mse: 0.2163 - 44ms/epoch - 6ms/step\n",
      "Epoch 101/150\n",
      "7/7 - 0s - loss: 0.1121 - mse: 0.1121 - val_loss: 0.2201 - val_mse: 0.2201 - 39ms/epoch - 6ms/step\n",
      "Epoch 102/150\n",
      "7/7 - 0s - loss: 0.1364 - mse: 0.1364 - val_loss: 0.2190 - val_mse: 0.2190 - 39ms/epoch - 6ms/step\n",
      "Epoch 103/150\n",
      "7/7 - 0s - loss: 0.1192 - mse: 0.1192 - val_loss: 0.2195 - val_mse: 0.2195 - 45ms/epoch - 6ms/step\n",
      "Epoch 104/150\n",
      "7/7 - 0s - loss: 0.1514 - mse: 0.1514 - val_loss: 0.2160 - val_mse: 0.2160 - 39ms/epoch - 6ms/step\n",
      "Epoch 105/150\n",
      "7/7 - 0s - loss: 0.1412 - mse: 0.1412 - val_loss: 0.2181 - val_mse: 0.2181 - 38ms/epoch - 5ms/step\n",
      "Epoch 106/150\n",
      "7/7 - 0s - loss: 0.1018 - mse: 0.1018 - val_loss: 0.2196 - val_mse: 0.2196 - 38ms/epoch - 5ms/step\n",
      "Epoch 107/150\n",
      "7/7 - 0s - loss: 0.1017 - mse: 0.1017 - val_loss: 0.2222 - val_mse: 0.2222 - 38ms/epoch - 5ms/step\n",
      "Epoch 108/150\n",
      "7/7 - 0s - loss: 0.1337 - mse: 0.1337 - val_loss: 0.2255 - val_mse: 0.2255 - 38ms/epoch - 5ms/step\n",
      "Epoch 109/150\n",
      "7/7 - 0s - loss: 0.1164 - mse: 0.1164 - val_loss: 0.2247 - val_mse: 0.2247 - 42ms/epoch - 6ms/step\n",
      "Epoch 110/150\n",
      "7/7 - 0s - loss: 0.1130 - mse: 0.1130 - val_loss: 0.2205 - val_mse: 0.2205 - 39ms/epoch - 6ms/step\n",
      "Epoch 111/150\n",
      "7/7 - 0s - loss: 0.1523 - mse: 0.1523 - val_loss: 0.2116 - val_mse: 0.2116 - 39ms/epoch - 6ms/step\n",
      "Epoch 112/150\n",
      "7/7 - 0s - loss: 0.1051 - mse: 0.1051 - val_loss: 0.2151 - val_mse: 0.2151 - 38ms/epoch - 5ms/step\n",
      "Epoch 113/150\n",
      "7/7 - 0s - loss: 0.1043 - mse: 0.1043 - val_loss: 0.2147 - val_mse: 0.2147 - 40ms/epoch - 6ms/step\n",
      "Epoch 114/150\n",
      "7/7 - 0s - loss: 0.1194 - mse: 0.1194 - val_loss: 0.2163 - val_mse: 0.2163 - 39ms/epoch - 6ms/step\n",
      "Epoch 115/150\n",
      "7/7 - 0s - loss: 0.1226 - mse: 0.1226 - val_loss: 0.2310 - val_mse: 0.2310 - 39ms/epoch - 6ms/step\n",
      "Epoch 116/150\n",
      "7/7 - 0s - loss: 0.1039 - mse: 0.1039 - val_loss: 0.2268 - val_mse: 0.2268 - 42ms/epoch - 6ms/step\n",
      "Epoch 117/150\n",
      "7/7 - 0s - loss: 0.0994 - mse: 0.0994 - val_loss: 0.2268 - val_mse: 0.2268 - 45ms/epoch - 6ms/step\n",
      "Epoch 118/150\n",
      "7/7 - 0s - loss: 0.1412 - mse: 0.1412 - val_loss: 0.2284 - val_mse: 0.2284 - 38ms/epoch - 5ms/step\n",
      "Epoch 119/150\n",
      "7/7 - 0s - loss: 0.1414 - mse: 0.1414 - val_loss: 0.2332 - val_mse: 0.2332 - 40ms/epoch - 6ms/step\n",
      "Epoch 120/150\n",
      "7/7 - 0s - loss: 0.1244 - mse: 0.1244 - val_loss: 0.2320 - val_mse: 0.2320 - 39ms/epoch - 6ms/step\n",
      "Epoch 121/150\n",
      "7/7 - 0s - loss: 0.1077 - mse: 0.1077 - val_loss: 0.2277 - val_mse: 0.2277 - 38ms/epoch - 5ms/step\n",
      "Epoch 122/150\n",
      "7/7 - 0s - loss: 0.1171 - mse: 0.1171 - val_loss: 0.2215 - val_mse: 0.2215 - 38ms/epoch - 5ms/step\n",
      "Epoch 123/150\n",
      "7/7 - 0s - loss: 0.1086 - mse: 0.1086 - val_loss: 0.2206 - val_mse: 0.2206 - 40ms/epoch - 6ms/step\n",
      "Epoch 124/150\n",
      "7/7 - 0s - loss: 0.1035 - mse: 0.1035 - val_loss: 0.2260 - val_mse: 0.2260 - 39ms/epoch - 6ms/step\n",
      "Epoch 125/150\n",
      "7/7 - 0s - loss: 0.1056 - mse: 0.1056 - val_loss: 0.2302 - val_mse: 0.2302 - 39ms/epoch - 6ms/step\n",
      "Epoch 126/150\n",
      "7/7 - 0s - loss: 0.0989 - mse: 0.0989 - val_loss: 0.2361 - val_mse: 0.2361 - 38ms/epoch - 5ms/step\n",
      "Epoch 127/150\n",
      "7/7 - 0s - loss: 0.1437 - mse: 0.1437 - val_loss: 0.2416 - val_mse: 0.2416 - 39ms/epoch - 6ms/step\n",
      "Epoch 128/150\n",
      "7/7 - 0s - loss: 0.0937 - mse: 0.0937 - val_loss: 0.2467 - val_mse: 0.2467 - 39ms/epoch - 6ms/step\n",
      "Epoch 129/150\n",
      "7/7 - 0s - loss: 0.1087 - mse: 0.1087 - val_loss: 0.2421 - val_mse: 0.2421 - 38ms/epoch - 5ms/step\n",
      "Epoch 130/150\n",
      "7/7 - 0s - loss: 0.1301 - mse: 0.1301 - val_loss: 0.2348 - val_mse: 0.2348 - 38ms/epoch - 5ms/step\n",
      "Epoch 131/150\n",
      "7/7 - 0s - loss: 0.1669 - mse: 0.1669 - val_loss: 0.2410 - val_mse: 0.2410 - 47ms/epoch - 7ms/step\n",
      "Epoch 132/150\n",
      "7/7 - 0s - loss: 0.1281 - mse: 0.1281 - val_loss: 0.2326 - val_mse: 0.2326 - 61ms/epoch - 9ms/step\n",
      "Epoch 133/150\n",
      "7/7 - 0s - loss: 0.0901 - mse: 0.0901 - val_loss: 0.2242 - val_mse: 0.2242 - 70ms/epoch - 10ms/step\n",
      "Epoch 134/150\n",
      "7/7 - 0s - loss: 0.1449 - mse: 0.1449 - val_loss: 0.2326 - val_mse: 0.2326 - 63ms/epoch - 9ms/step\n",
      "Epoch 135/150\n",
      "7/7 - 0s - loss: 0.1144 - mse: 0.1144 - val_loss: 0.2394 - val_mse: 0.2394 - 59ms/epoch - 8ms/step\n",
      "Epoch 136/150\n",
      "7/7 - 0s - loss: 0.1084 - mse: 0.1084 - val_loss: 0.2272 - val_mse: 0.2272 - 50ms/epoch - 7ms/step\n",
      "Epoch 137/150\n",
      "7/7 - 0s - loss: 0.0839 - mse: 0.0839 - val_loss: 0.2208 - val_mse: 0.2208 - 42ms/epoch - 6ms/step\n",
      "Epoch 138/150\n",
      "7/7 - 0s - loss: 0.0874 - mse: 0.0874 - val_loss: 0.2199 - val_mse: 0.2199 - 41ms/epoch - 6ms/step\n",
      "Epoch 139/150\n",
      "7/7 - 0s - loss: 0.1032 - mse: 0.1032 - val_loss: 0.2193 - val_mse: 0.2193 - 41ms/epoch - 6ms/step\n",
      "Epoch 140/150\n",
      "7/7 - 0s - loss: 0.0862 - mse: 0.0862 - val_loss: 0.2212 - val_mse: 0.2212 - 43ms/epoch - 6ms/step\n",
      "Epoch 141/150\n",
      "7/7 - 0s - loss: 0.0692 - mse: 0.0692 - val_loss: 0.2273 - val_mse: 0.2273 - 45ms/epoch - 6ms/step\n",
      "Epoch 142/150\n",
      "7/7 - 0s - loss: 0.1040 - mse: 0.1040 - val_loss: 0.2313 - val_mse: 0.2313 - 41ms/epoch - 6ms/step\n",
      "Epoch 143/150\n",
      "7/7 - 0s - loss: 0.0849 - mse: 0.0849 - val_loss: 0.2384 - val_mse: 0.2384 - 42ms/epoch - 6ms/step\n",
      "Epoch 144/150\n",
      "7/7 - 0s - loss: 0.0967 - mse: 0.0967 - val_loss: 0.2455 - val_mse: 0.2455 - 39ms/epoch - 6ms/step\n",
      "Epoch 145/150\n",
      "7/7 - 0s - loss: 0.1030 - mse: 0.1030 - val_loss: 0.2495 - val_mse: 0.2495 - 38ms/epoch - 5ms/step\n",
      "Epoch 146/150\n",
      "7/7 - 0s - loss: 0.1245 - mse: 0.1245 - val_loss: 0.2429 - val_mse: 0.2429 - 38ms/epoch - 5ms/step\n",
      "Epoch 147/150\n",
      "7/7 - 0s - loss: 0.0792 - mse: 0.0792 - val_loss: 0.2374 - val_mse: 0.2374 - 38ms/epoch - 5ms/step\n"
     ]
    },
    {
     "name": "stdout",
     "output_type": "stream",
     "text": [
      "Epoch 148/150\n",
      "7/7 - 0s - loss: 0.1057 - mse: 0.1057 - val_loss: 0.2383 - val_mse: 0.2383 - 39ms/epoch - 6ms/step\n",
      "Epoch 149/150\n",
      "7/7 - 0s - loss: 0.0942 - mse: 0.0942 - val_loss: 0.2375 - val_mse: 0.2375 - 38ms/epoch - 5ms/step\n",
      "Epoch 150/150\n",
      "7/7 - 0s - loss: 0.0903 - mse: 0.0903 - val_loss: 0.2439 - val_mse: 0.2439 - 40ms/epoch - 6ms/step\n"
     ]
    },
    {
     "data": {
      "text/plain": [
       "<keras.callbacks.History at 0x17058ced520>"
      ]
     },
     "execution_count": 4,
     "metadata": {},
     "output_type": "execute_result"
    }
   ],
   "source": [
    "model.fit(train_inputs,\n",
    "          train_targets,\n",
    "          batch_size = batch_size,\n",
    "          epochs = max_epochs,\n",
    "          validation_data = (validation_inputs, validation_targets),\n",
    "          verbose=2)"
   ]
  },
  {
   "cell_type": "code",
   "execution_count": 5,
   "id": "18bb768a",
   "metadata": {},
   "outputs": [
    {
     "data": {
      "text/plain": [
       "<matplotlib.legend.Legend at 0x1705c3fa130>"
      ]
     },
     "execution_count": 5,
     "metadata": {},
     "output_type": "execute_result"
    },
    {
     "data": {
      "image/png": "[encoded data removed]",
      "text/plain": [
       "<Figure size 432x288 with 1 Axes>"
      ]
     },
     "metadata": {},
     "output_type": "display_data"
    }
   ],
   "source": [
    "#plot shows degree of overfitting if any \n",
    "\n",
    "losses = pd.DataFrame(model.history.history)\n",
    "plt.plot(range(len(losses)),losses['loss'], label='training_loss')\n",
    "plt.plot(range(len(losses)), losses['val_loss'], label='validation_loss')\n",
    "plt.legend()"
   ]
  },
  {
   "cell_type": "code",
   "execution_count": null,
   "id": "45ea40bc",
   "metadata": {},
   "outputs": [],
   "source": [
    "losses"
   ]
  },
  {
   "cell_type": "code",
   "execution_count": null,
   "id": "e1d0275c",
   "metadata": {},
   "outputs": [],
   "source": [
    "test_loss, test_accuracy = model.evaluate(test_inputs, test_targets)"
   ]
  },
  {
   "cell_type": "code",
   "execution_count": null,
   "id": "63d08575",
   "metadata": {},
   "outputs": [],
   "source": []
  },
  {
   "cell_type": "code",
   "execution_count": 6,
   "id": "b1d2855f",
   "metadata": {},
   "outputs": [
    {
     "name": "stdout",
     "output_type": "stream",
     "text": [
      "5/5 [==============================] - 0s 1ms/step\n"
     ]
    }
   ],
   "source": [
    "#use model to predict outcomes of test inputs\n",
    "predictions = model.predict(test_inputs)"
   ]
  },
  {
   "cell_type": "code",
   "execution_count": 7,
   "id": "e54c63ab",
   "metadata": {},
   "outputs": [
    {
     "data": {
      "image/png": "[encoded data removed]",
      "text/plain": [
       "<Figure size 432x288 with 1 Axes>"
      ]
     },
     "metadata": {},
     "output_type": "display_data"
    }
   ],
   "source": [
    "#points show case how accurate model predictions are in relation to the actual values\n",
    "\n",
    "plt.scatter(test_targets, predictions)\n",
    "plt.plot(test_targets, test_targets, 'r')\n",
    "plt.show()"
   ]
  },
  {
   "cell_type": "code",
   "execution_count": null,
   "id": "c6d0f186",
   "metadata": {},
   "outputs": [],
   "source": []
  },
  {
   "cell_type": "code",
   "execution_count": 8,
   "id": "7ab44da0",
   "metadata": {},
   "outputs": [],
   "source": [
    "from sklearn.metrics import explained_variance_score"
   ]
  },
  {
   "cell_type": "code",
   "execution_count": 9,
   "id": "3cdf392e",
   "metadata": {},
   "outputs": [],
   "source": [
    "#use explained variance score from sklearn to avaluate how much variance is explained by the data/model\n",
    "\n",
    "score = explained_variance_score(test_targets, predictions)"
   ]
  },
  {
   "cell_type": "code",
   "execution_count": 10,
   "id": "275015ba",
   "metadata": {},
   "outputs": [
    {
     "data": {
      "text/plain": [
       "0.9681975589768597"
      ]
     },
     "execution_count": 10,
     "metadata": {},
     "output_type": "execute_result"
    }
   ],
   "source": [
    "score"
   ]
  },
  {
   "cell_type": "markdown",
   "id": "5bfc630c",
   "metadata": {},
   "source": [
    "## Deliver meaning from model\n",
    "\n",
    "### Standardizing parameters can help in training model when magnitudes of parameters differ but have to find meaning from a numerical predictive model. Therefore predictions are unstandrardized to be compared to the actual values"
   ]
  },
  {
   "cell_type": "code",
   "execution_count": 12,
   "id": "47c36304",
   "metadata": {},
   "outputs": [],
   "source": [
    "data = pd.read_csv('insurance.csv')\n"
   ]
  },
  {
   "cell_type": "code",
   "execution_count": 13,
   "id": "595c9007",
   "metadata": {},
   "outputs": [],
   "source": [
    "from sklearn import preprocessing"
   ]
  },
  {
   "cell_type": "code",
   "execution_count": 14,
   "id": "e8ca1188",
   "metadata": {},
   "outputs": [],
   "source": [
    "mean = np.mean(data['charges'])"
   ]
  },
  {
   "cell_type": "code",
   "execution_count": 15,
   "id": "1fc32bf1",
   "metadata": {},
   "outputs": [],
   "source": [
    "std = np.std(data['charges'])"
   ]
  },
  {
   "cell_type": "code",
   "execution_count": 17,
   "id": "25341ae3",
   "metadata": {},
   "outputs": [],
   "source": [
    "unscaled_test_targets = []\n",
    "\n",
    "for i in range(len(test_targets)):\n",
    "    to_unscale = test_targets[i]\n",
    "    unscaled = (to_unscale*std) + mean\n",
    "    unscaled_test_targets.append(unscaled)\n",
    "\n",
    "    \n",
    "    "
   ]
  },
  {
   "cell_type": "code",
   "execution_count": 18,
   "id": "1593a627",
   "metadata": {},
   "outputs": [
    {
     "data": {
      "text/plain": [
       "135"
      ]
     },
     "execution_count": 18,
     "metadata": {},
     "output_type": "execute_result"
    }
   ],
   "source": [
    "#converting array containing array of arrays to list with arrays\n",
    "\n",
    "list_predictions = predictions.tolist()\n",
    "len(list_predictions)"
   ]
  },
  {
   "cell_type": "code",
   "execution_count": 19,
   "id": "31738770",
   "metadata": {},
   "outputs": [],
   "source": [
    "#converts list of arrays to single list containing all predictions\n",
    "list_list_predictions = []\n",
    "\n",
    "\n",
    "for i in range(len(list_predictions)):\n",
    "    value = list_predictions[i][0]\n",
    "    list_list_predictions.append(value)\n",
    "    \n"
   ]
  },
  {
   "cell_type": "code",
   "execution_count": 20,
   "id": "7fafe934",
   "metadata": {},
   "outputs": [],
   "source": [
    "#converts list of predictions with standardized values to list containing unstandardized values\n",
    "unscaled_predictions = []\n",
    "\n",
    "for i in range(len(list_list_predictions)):\n",
    "    to_unscale = list_list_predictions[i]\n",
    "    unscaled = (to_unscale*std) + mean\n",
    "    unscaled_predictions.append(unscaled)\n",
    "    \n"
   ]
  },
  {
   "cell_type": "code",
   "execution_count": 21,
   "id": "325a413d",
   "metadata": {},
   "outputs": [
    {
     "data": {
      "text/html": [
       "<div>\n",
       "<style scoped>\n",
       "    .dataframe tbody tr th:only-of-type {\n",
       "        vertical-align: middle;\n",
       "    }\n",
       "\n",
       "    .dataframe tbody tr th {\n",
       "        vertical-align: top;\n",
       "    }\n",
       "\n",
       "    .dataframe thead th {\n",
       "        text-align: right;\n",
       "    }\n",
       "</style>\n",
       "<table border=\"1\" class=\"dataframe\">\n",
       "  <thead>\n",
       "    <tr style=\"text-align: right;\">\n",
       "      <th></th>\n",
       "      <th>Prediction</th>\n",
       "    </tr>\n",
       "  </thead>\n",
       "  <tbody>\n",
       "    <tr>\n",
       "      <th>0</th>\n",
       "      <td>4691.589021</td>\n",
       "    </tr>\n",
       "    <tr>\n",
       "      <th>1</th>\n",
       "      <td>12003.809397</td>\n",
       "    </tr>\n",
       "    <tr>\n",
       "      <th>2</th>\n",
       "      <td>17014.289505</td>\n",
       "    </tr>\n",
       "    <tr>\n",
       "      <th>3</th>\n",
       "      <td>2083.266158</td>\n",
       "    </tr>\n",
       "    <tr>\n",
       "      <th>4</th>\n",
       "      <td>5146.029873</td>\n",
       "    </tr>\n",
       "    <tr>\n",
       "      <th>...</th>\n",
       "      <td>...</td>\n",
       "    </tr>\n",
       "    <tr>\n",
       "      <th>130</th>\n",
       "      <td>12181.052860</td>\n",
       "    </tr>\n",
       "    <tr>\n",
       "      <th>131</th>\n",
       "      <td>39674.023258</td>\n",
       "    </tr>\n",
       "    <tr>\n",
       "      <th>132</th>\n",
       "      <td>5804.528174</td>\n",
       "    </tr>\n",
       "    <tr>\n",
       "      <th>133</th>\n",
       "      <td>1614.588538</td>\n",
       "    </tr>\n",
       "    <tr>\n",
       "      <th>134</th>\n",
       "      <td>3015.131897</td>\n",
       "    </tr>\n",
       "  </tbody>\n",
       "</table>\n",
       "<p>135 rows × 1 columns</p>\n",
       "</div>"
      ],
      "text/plain": [
       "       Prediction\n",
       "0     4691.589021\n",
       "1    12003.809397\n",
       "2    17014.289505\n",
       "3     2083.266158\n",
       "4     5146.029873\n",
       "..            ...\n",
       "130  12181.052860\n",
       "131  39674.023258\n",
       "132   5804.528174\n",
       "133   1614.588538\n",
       "134   3015.131897\n",
       "\n",
       "[135 rows x 1 columns]"
      ]
     },
     "execution_count": 21,
     "metadata": {},
     "output_type": "execute_result"
    }
   ],
   "source": [
    "#turn list of unstandardized predictions to dataframe with column name \"Prediction\"\n",
    "df_unscaled_predictions = pd.DataFrame(unscaled_predictions, columns=['Prediction'])\n",
    "df_unscaled_predictions"
   ]
  },
  {
   "cell_type": "code",
   "execution_count": 22,
   "id": "30fa6b01",
   "metadata": {},
   "outputs": [
    {
     "data": {
      "text/html": [
       "<div>\n",
       "<style scoped>\n",
       "    .dataframe tbody tr th:only-of-type {\n",
       "        vertical-align: middle;\n",
       "    }\n",
       "\n",
       "    .dataframe tbody tr th {\n",
       "        vertical-align: top;\n",
       "    }\n",
       "\n",
       "    .dataframe thead th {\n",
       "        text-align: right;\n",
       "    }\n",
       "</style>\n",
       "<table border=\"1\" class=\"dataframe\">\n",
       "  <thead>\n",
       "    <tr style=\"text-align: right;\">\n",
       "      <th></th>\n",
       "      <th>Target</th>\n",
       "    </tr>\n",
       "  </thead>\n",
       "  <tbody>\n",
       "    <tr>\n",
       "      <th>0</th>\n",
       "      <td>3366.66970</td>\n",
       "    </tr>\n",
       "    <tr>\n",
       "      <th>1</th>\n",
       "      <td>12485.80090</td>\n",
       "    </tr>\n",
       "    <tr>\n",
       "      <th>2</th>\n",
       "      <td>21344.84670</td>\n",
       "    </tr>\n",
       "    <tr>\n",
       "      <th>3</th>\n",
       "      <td>1737.37600</td>\n",
       "    </tr>\n",
       "    <tr>\n",
       "      <th>4</th>\n",
       "      <td>4894.75330</td>\n",
       "    </tr>\n",
       "    <tr>\n",
       "      <th>...</th>\n",
       "      <td>...</td>\n",
       "    </tr>\n",
       "    <tr>\n",
       "      <th>130</th>\n",
       "      <td>16796.41194</td>\n",
       "    </tr>\n",
       "    <tr>\n",
       "      <th>131</th>\n",
       "      <td>39983.42595</td>\n",
       "    </tr>\n",
       "    <tr>\n",
       "      <th>132</th>\n",
       "      <td>1621.88270</td>\n",
       "    </tr>\n",
       "    <tr>\n",
       "      <th>133</th>\n",
       "      <td>1242.81600</td>\n",
       "    </tr>\n",
       "    <tr>\n",
       "      <th>134</th>\n",
       "      <td>2494.02200</td>\n",
       "    </tr>\n",
       "  </tbody>\n",
       "</table>\n",
       "<p>135 rows × 1 columns</p>\n",
       "</div>"
      ],
      "text/plain": [
       "          Target\n",
       "0     3366.66970\n",
       "1    12485.80090\n",
       "2    21344.84670\n",
       "3     1737.37600\n",
       "4     4894.75330\n",
       "..           ...\n",
       "130  16796.41194\n",
       "131  39983.42595\n",
       "132   1621.88270\n",
       "133   1242.81600\n",
       "134   2494.02200\n",
       "\n",
       "[135 rows x 1 columns]"
      ]
     },
     "execution_count": 22,
     "metadata": {},
     "output_type": "execute_result"
    }
   ],
   "source": [
    "#turn list of unstardized targets to dataframe with column name \"Prediction\"\n",
    "df_unscaled_targets = pd.DataFrame(unscaled_test_targets, columns=['Target'])\n",
    "df_unscaled_targets"
   ]
  },
  {
   "cell_type": "code",
   "execution_count": 23,
   "id": "435888d0",
   "metadata": {},
   "outputs": [
    {
     "data": {
      "text/html": [
       "<div>\n",
       "<style scoped>\n",
       "    .dataframe tbody tr th:only-of-type {\n",
       "        vertical-align: middle;\n",
       "    }\n",
       "\n",
       "    .dataframe tbody tr th {\n",
       "        vertical-align: top;\n",
       "    }\n",
       "\n",
       "    .dataframe thead th {\n",
       "        text-align: right;\n",
       "    }\n",
       "</style>\n",
       "<table border=\"1\" class=\"dataframe\">\n",
       "  <thead>\n",
       "    <tr style=\"text-align: right;\">\n",
       "      <th></th>\n",
       "      <th>Target</th>\n",
       "      <th>Prediction</th>\n",
       "    </tr>\n",
       "  </thead>\n",
       "  <tbody>\n",
       "    <tr>\n",
       "      <th>0</th>\n",
       "      <td>3366.66970</td>\n",
       "      <td>4691.589021</td>\n",
       "    </tr>\n",
       "    <tr>\n",
       "      <th>1</th>\n",
       "      <td>12485.80090</td>\n",
       "      <td>12003.809397</td>\n",
       "    </tr>\n",
       "    <tr>\n",
       "      <th>2</th>\n",
       "      <td>21344.84670</td>\n",
       "      <td>17014.289505</td>\n",
       "    </tr>\n",
       "    <tr>\n",
       "      <th>3</th>\n",
       "      <td>1737.37600</td>\n",
       "      <td>2083.266158</td>\n",
       "    </tr>\n",
       "    <tr>\n",
       "      <th>4</th>\n",
       "      <td>4894.75330</td>\n",
       "      <td>5146.029873</td>\n",
       "    </tr>\n",
       "    <tr>\n",
       "      <th>...</th>\n",
       "      <td>...</td>\n",
       "      <td>...</td>\n",
       "    </tr>\n",
       "    <tr>\n",
       "      <th>130</th>\n",
       "      <td>16796.41194</td>\n",
       "      <td>12181.052860</td>\n",
       "    </tr>\n",
       "    <tr>\n",
       "      <th>131</th>\n",
       "      <td>39983.42595</td>\n",
       "      <td>39674.023258</td>\n",
       "    </tr>\n",
       "    <tr>\n",
       "      <th>132</th>\n",
       "      <td>1621.88270</td>\n",
       "      <td>5804.528174</td>\n",
       "    </tr>\n",
       "    <tr>\n",
       "      <th>133</th>\n",
       "      <td>1242.81600</td>\n",
       "      <td>1614.588538</td>\n",
       "    </tr>\n",
       "    <tr>\n",
       "      <th>134</th>\n",
       "      <td>2494.02200</td>\n",
       "      <td>3015.131897</td>\n",
       "    </tr>\n",
       "  </tbody>\n",
       "</table>\n",
       "<p>135 rows × 2 columns</p>\n",
       "</div>"
      ],
      "text/plain": [
       "          Target    Prediction\n",
       "0     3366.66970   4691.589021\n",
       "1    12485.80090  12003.809397\n",
       "2    21344.84670  17014.289505\n",
       "3     1737.37600   2083.266158\n",
       "4     4894.75330   5146.029873\n",
       "..           ...           ...\n",
       "130  16796.41194  12181.052860\n",
       "131  39983.42595  39674.023258\n",
       "132   1621.88270   5804.528174\n",
       "133   1242.81600   1614.588538\n",
       "134   2494.02200   3015.131897\n",
       "\n",
       "[135 rows x 2 columns]"
      ]
     },
     "execution_count": 23,
     "metadata": {},
     "output_type": "execute_result"
    }
   ],
   "source": [
    "targets_predictions_unscaled = pd.concat([df_unscaled_targets, df_unscaled_predictions], axis=1)\n",
    "targets_predictions_unscaled"
   ]
  },
  {
   "cell_type": "code",
   "execution_count": 24,
   "id": "d4b379d5",
   "metadata": {},
   "outputs": [
    {
     "data": {
      "text/plain": [
       "0.9681975589768597"
      ]
     },
     "execution_count": 24,
     "metadata": {},
     "output_type": "execute_result"
    }
   ],
   "source": [
    "score_unscaled = explained_variance_score(targets_predictions_unscaled['Target'], targets_predictions_unscaled['Prediction'])\n",
    "score_unscaled"
   ]
  },
  {
   "cell_type": "code",
   "execution_count": 28,
   "id": "036ad3f3",
   "metadata": {},
   "outputs": [
    {
     "data": {
      "text/plain": [
       "Text(0, 0.5, 'Predictions ($)')"
      ]
     },
     "execution_count": 28,
     "metadata": {},
     "output_type": "execute_result"
    },
    {
     "data": {
      "image/png": "[encoded data removed]",
      "text/plain": [
       "<Figure size 432x288 with 1 Axes>"
      ]
     },
     "metadata": {},
     "output_type": "display_data"
    }
   ],
   "source": [
    "plt.scatter(targets_predictions_unscaled['Target'], targets_predictions_unscaled['Prediction'])\n",
    "plt.xlabel('Targets ($)')\n",
    "plt.ylabel('Predictions ($)')"
   ]
  },
  {
   "cell_type": "markdown",
   "id": "ec04ef94",
   "metadata": {},
   "source": [
    "#### plot shows that predictions and targets are closeley related other then a few larger outliers"
   ]
  }
 ],
 "metadata": {
  "kernelspec": {
   "display_name": "Python 3",
   "language": "python",
   "name": "python3"
  },
  "language_info": {
   "codemirror_mode": {
    "name": "ipython",
    "version": 3
   },
   "file_extension": ".py",
   "mimetype": "text/x-python",
   "name": "python",
   "nbconvert_exporter": "python",
   "pygments_lexer": "ipython3",
   "version": "3.8.8"
  }
 },
 "nbformat": 4,
 "nbformat_minor": 5
}
